{
 "cells": [
  {
   "cell_type": "code",
   "execution_count": 93,
   "metadata": {
    "collapsed": true
   },
   "outputs": [],
   "source": [
    "import re\n",
    "import numpy as np\n",
    "\n",
    "from mpl_toolkits.mplot3d import axes3d\n",
    "import matplotlib.pyplot as plt\n",
    "\n",
    "\n",
    "diaPath = 'Diamond.pov'\n",
    "MCEPath = 'MCE.pov'"
   ]
  },
  {
   "cell_type": "code",
   "execution_count": 94,
   "metadata": {
    "collapsed": false,
    "scrolled": true
   },
   "outputs": [],
   "source": [
    "def cellMCE(path):\n",
    "    file = open(path, 'r')\n",
    "    out = np.array([0,0,0,0,0,0])\n",
    "    for line in file:\n",
    "        if '#' not in line and 'cellcylRadius' in line:\n",
    "            row = CylinderExtract(line)\n",
    "            out = np.vstack((out, row))\n",
    "            #print(out)\n",
    "    file.close()\n",
    "    return(out)\n",
    "\n",
    "def cellDia(path):\n",
    "    edge = '// -- Coming now: 12 cell edges --'\n",
    "    file = open(diamondPath, 'r')\n",
    "    out = np.array([0,0,0,0,0,0,0])\n",
    "    for line in file:\n",
    "        if line.strip() == edge:\n",
    "            #print(line)\n",
    "            break\n",
    "    for line in file:\n",
    "        if 'cylinder' in line:\n",
    "            row = CylinderExtract(line)\n",
    "            out = np.vstack((out, row))\n",
    "\n",
    "    file.close()\n",
    "    return(out)\n",
    "\n",
    "def CylinderExtract(line):\n",
    "    data = re.findall(\"[-+]?\\d+.\\d+\\w\", line)\n",
    "    out = np.array(list(map(float, data)))\n",
    "    return(out)\n",
    "\n",
    "MCECell = cellMCE(MCEPath)\n",
    "diaCell = cellDia(diaPath)"
   ]
  },
  {
   "cell_type": "code",
   "execution_count": 102,
   "metadata": {
    "collapsed": false
   },
   "outputs": [],
   "source": [
    "def cellPoints(cell,col):\n",
    "    xs = cell[:,0]\n",
    "    ys = cell[:,1]\n",
    "    zs = cell[:,2]\n",
    "    ax.scatter(xs, ys, zs, c=c, marker=m, color = col)\n",
    "    \n",
    "    xs = cell[:,3]\n",
    "    ys = cell[:,4]\n",
    "    zs = cell[:,5]\n",
    "    ax.scatter(xs, ys, zs, c=c, marker=m, color = col)\n",
    "\n",
    "    \n",
    " \n",
    "fig = plt.figure()\n",
    "ax = fig.add_subplot(111, projection='3d')    \n",
    "    \n",
    "cellPoints(MCECell, 'b')\n",
    "cellPoints(diaCell, 'r')\n",
    "  \n",
    "ax.set_xlabel('X Label')\n",
    "ax.set_ylabel('Y Label')\n",
    "ax.set_zlabel('Z Label')\n",
    "\n",
    "plt.show()"
   ]
  },
  {
   "cell_type": "code",
   "execution_count": 105,
   "metadata": {
    "collapsed": false
   },
   "outputs": [
    {
     "ename": "NameError",
     "evalue": "name 'key' is not defined",
     "output_type": "error",
     "traceback": [
      "\u001b[1;31m---------------------------------------------------------------------------\u001b[0m",
      "\u001b[1;31mNameError\u001b[0m                                 Traceback (most recent call last)",
      "\u001b[1;32m<ipython-input-105-d9ef43120e6e>\u001b[0m in \u001b[0;36m<module>\u001b[1;34m()\u001b[0m\n\u001b[0;32m      1\u001b[0m \u001b[0mwas_pressed\u001b[0m \u001b[1;33m=\u001b[0m \u001b[0mset\u001b[0m\u001b[1;33m(\u001b[0m\u001b[1;33m)\u001b[0m\u001b[1;33m\u001b[0m\u001b[0m\n\u001b[0;32m      2\u001b[0m \u001b[1;33m\u001b[0m\u001b[0m\n\u001b[1;32m----> 3\u001b[1;33m \u001b[1;32mif\u001b[0m \u001b[0mkey\u001b[0m\u001b[1;33m[\u001b[0m\u001b[0mpygame\u001b[0m\u001b[1;33m.\u001b[0m\u001b[0mK_RIGHT\u001b[0m\u001b[1;33m]\u001b[0m \u001b[1;32mand\u001b[0m \u001b[0mkey\u001b[0m\u001b[1;33m[\u001b[0m\u001b[0mpygame\u001b[0m\u001b[1;33m.\u001b[0m\u001b[0mK_LEFT\u001b[0m\u001b[1;33m]\u001b[0m\u001b[1;33m:\u001b[0m\u001b[1;33m\u001b[0m\u001b[0m\n\u001b[0m\u001b[0;32m      4\u001b[0m     \u001b[1;32mif\u001b[0m \u001b[0mpygame\u001b[0m\u001b[1;33m.\u001b[0m\u001b[0mK_RIGHT\u001b[0m \u001b[1;32min\u001b[0m \u001b[0mwas_pressed\u001b[0m\u001b[1;33m:\u001b[0m\u001b[1;33m\u001b[0m\u001b[0m\n\u001b[0;32m      5\u001b[0m         \u001b[1;31m# the left one's the new one!\u001b[0m\u001b[1;33m\u001b[0m\u001b[1;33m\u001b[0m\u001b[0m\n",
      "\u001b[1;31mNameError\u001b[0m: name 'key' is not defined"
     ]
    }
   ],
   "source": [
    "was_pressed = set()\n",
    "\n",
    "if key[pygame.K_RIGHT] and key[pygame.K_LEFT]:\n",
    "    if pygame.K_RIGHT in was_pressed:\n",
    "        # the left one's the new one!\n",
    "        self.x -= dist # move left\n",
    "    elif pygame.K_LEFT in was_pressed:\n",
    "        # the right one's the new one!\n",
    "        self.x += dist # move right\n",
    "    else:\n",
    "        # both freshly pressed at once, what now?!\n",
    "        pass  # assume e.g they \"cancel each other out\"\n",
    "elif key[pygame.K_RIGHT]:\n",
    "    was_pressed = {pygame.K_RIGHT}\n",
    "    self.x += dist # move right\n",
    "elif key[pygame.K_LEFT]:\n",
    "    was_pressed = {pygame.K_LEFT}\n",
    "    self.x -= dist # move left\n",
    "else:\n",
    "    was_pressed = set()"
   ]
  }
 ],
 "metadata": {
  "anaconda-cloud": {},
  "kernelspec": {
   "display_name": "Python [Root]",
   "language": "python",
   "name": "Python [Root]"
  },
  "language_info": {
   "codemirror_mode": {
    "name": "ipython",
    "version": 3
   },
   "file_extension": ".py",
   "mimetype": "text/x-python",
   "name": "python",
   "nbconvert_exporter": "python",
   "pygments_lexer": "ipython3",
   "version": "3.5.2"
  }
 },
 "nbformat": 4,
 "nbformat_minor": 0
}
